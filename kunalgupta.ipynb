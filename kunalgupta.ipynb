{
  "cells": [
    {
      "cell_type": "code",
      "execution_count": null,
      "metadata": {
        "colab": {
          "base_uri": "https://localhost:8080/"
        },
        "id": "NQ7_s2dKlGRf",
        "outputId": "6a83368a-8fac-4ecd-fb51-b1e7c856be3b"
      },
      "outputs": [
        {
          "name": "stdout",
          "output_type": "stream",
          "text": [
            "Reversed: [5 4 6 3 2 1]\n"
          ]
        }
      ],
      "source": [
        "# Question1a\n",
        "import numpy as np\n",
        "arr = np.array([1, 2, 3, 6, 4, 5])\n",
        "print(\"Reversed:\", arr[::-1])\n",
        "\n",
        "\n"
      ]
    },
    {
      "cell_type": "code",
      "execution_count": null,
      "metadata": {
        "colab": {
          "background_save": true
        },
        "id": "2-hg_90Roolu",
        "outputId": "a1baebe8-189c-4e2c-e37d-ae05a6669e52"
      },
      "outputs": [
        {
          "name": "stdout",
          "output_type": "stream",
          "text": [
            "[1 2 3 2 4 5 1 2 3]\n",
            "[1 2 3 2 4 5 1 2 3]\n"
          ]
        }
      ],
      "source": [
        "# Question1b\n",
        "array1 = np.array([[1, 2, 3], [2, 4, 5], [1, 2, 3]])\n",
        "print(array1.ravel())\n",
        "print(array1.flatten())"
      ]
    },
    {
      "cell_type": "code",
      "source": [
        "#Question1c\n",
        "arr1 = np.array([[1, 2], [3, 4]])\n",
        "arr2 = np.array([[1, 2], [3, 4]])\n",
        "np.array_equal(arr1, arr2)\n"
      ],
      "metadata": {
        "colab": {
          "base_uri": "https://localhost:8080/"
        },
        "id": "bFaISYMVrfSH",
        "outputId": "6302b2e3-86b5-4e02-f79a-f6e26913afdb"
      },
      "execution_count": null,
      "outputs": [
        {
          "output_type": "execute_result",
          "data": {
            "text/plain": [
              "True"
            ]
          },
          "metadata": {},
          "execution_count": 8
        }
      ]
    },
    {
      "cell_type": "code",
      "execution_count": null,
      "metadata": {
        "id": "khdJPpNLorEs"
      },
      "outputs": [],
      "source": [
        "# Question1d\n",
        "x = np.array([1,2,3,4,5,1,2,1,1,1])\n",
        "from collections import Counter\n",
        "most_common = Counter(x).most_common(1)[0][0]\n",
        "print(\"Most frequent:\", most_common)\n",
        "print(\"Indices:\", np.where(x == most_common))"
      ]
    },
    {
      "cell_type": "code",
      "source": [
        "# q1 e\n",
        "gfg = np.matrix('[4, 1, 9; 12, 3, 1; 4, 5, 6]')\n",
        "\n",
        "# i. Sum of all elements\n",
        "total_sum = np.sum(gfg)\n",
        "\n",
        "# ii. Row-wise sum\n",
        "row_sum = np.sum(gfg, axis=1)\n",
        "\n",
        "# iii. Column-wise sum\n",
        "col_sum = np.sum(gfg, axis=0)\n",
        "\n",
        "print(total_sum)\n",
        "print(row_sum)\n",
        "print(col_sum)\n"
      ],
      "metadata": {
        "id": "4PY1Nouhtiys"
      },
      "execution_count": null,
      "outputs": []
    },
    {
      "cell_type": "code",
      "execution_count": null,
      "metadata": {
        "colab": {
          "base_uri": "https://localhost:8080/"
        },
        "id": "d66srsocot-6",
        "outputId": "03433f48-4f9b-4103-9fe7-d291a80e21af"
      },
      "outputs": [
        {
          "name": "stdout",
          "output_type": "stream",
          "text": [
            "Most frequent: 1\n",
            "Indices: (array([0, 1, 2]),)\n"
          ]
        }
      ],
      "source": [
        "y = np.array([1, 1, 1, 2, 3, 4, 2, 4, 3, 3])\n",
        "from collections import Counter\n",
        "most_common = Counter(y).most_common(1)[0][0]\n",
        "print(\"Most frequent:\", most_common)\n",
        "print(\"Indices:\", np.where(y == most_common))"
      ]
    },
    {
      "cell_type": "code",
      "source": [
        "x = np.array([[2, 3, 4], [3, 2, 9]])\n",
        "y = np.array([[1, 5, 0], [5, 10, 3]])\n",
        "\n",
        "# Inner product\n",
        "inner = np.inner(x, y)\n",
        "\n",
        "# Outer product (flattened)\n",
        "outer = np.outer(x, y)\n",
        "\n",
        "# Cartesian product\n",
        "cartesian = np.array(np.meshgrid(x.flatten(), y.flatten())).T.reshape(-1, 2)\n",
        "\n",
        "print(inner)\n",
        "print(outer)\n",
        "print(cartesian)\n"
      ],
      "metadata": {
        "id": "Hwzo6n05t8i4"
      },
      "execution_count": null,
      "outputs": []
    },
    {
      "cell_type": "code",
      "source": [
        "# i.\n",
        "p1 = np.array([[1, 2], [2, 3]])\n",
        "q1 = np.array([[4, 5], [6, 7]])\n",
        "product1 = np.dot(p1, q1)\n",
        "cov1 = np.cov(p1.T, q1.T)\n",
        "\n",
        "# ii.\n",
        "p2 = np.array([[1, 2], [2, 3], [4, 5]])\n",
        "q2 = np.array([[4, 5, 1], [6, 7, 2]])\n",
        "product2 = np.dot(p2, q2)\n",
        "cov2 = np.cov(p2.T, q2.T)\n",
        "\n",
        "print(product1)\n",
        "print(cov1)\n",
        "print(product2)\n",
        "print(cov2)\n"
      ],
      "metadata": {
        "id": "JSVwxm3luB-L"
      },
      "execution_count": null,
      "outputs": []
    },
    {
      "cell_type": "code",
      "source": [
        "#  Question\n",
        " gfg = np.matrix('[4, 1, 9; 12, 3, 1; 4, 5, 6]')"
      ],
      "metadata": {
        "id": "05wEiNnjsibf"
      },
      "execution_count": null,
      "outputs": []
    },
    {
      "cell_type": "code",
      "source": [
        "# Q2\n",
        "array = np.array([[1, -2, 3],[-4, 5, -6]])\n",
        "\n",
        "# i. Absolute\n",
        "abs_array = np.abs(array)\n",
        "\n",
        "# ii. Percentiles\n",
        "flat = array.flatten()\n",
        "percentiles = np.percentile(flat, [25, 50, 75])\n",
        "col_percentiles = np.percentile(array, [25, 50, 75], axis=0)\n",
        "row_percentiles = np.percentile(array, [25, 50, 75], axis=1)\n",
        "\n",
        "print(abs_array)\n",
        "print(percentiles)\n",
        "print(col_percentiles)\n",
        "print(row_percentiles)\n",
        "\n",
        "# iii. Stats\n",
        "mean = np.mean(flat)\n",
        "median = np.median(flat)\n",
        "std = np.std(flat)\n",
        "\n",
        "col_mean = np.mean(array, axis=0)\n",
        "row_mean = np.mean(array, axis=1)\n",
        "\n",
        "print(mean, median, std)\n",
        "print(col_mean)\n",
        "print(row_mean)\n"
      ],
      "metadata": {
        "id": "fdqFllMMrOH6"
      },
      "execution_count": null,
      "outputs": []
    },
    {
      "cell_type": "code",
      "source": [
        "a = np.array([-1.8, -1.6, -0.5, 0.5, 1.6, 1.8, 3.0])\n",
        "\n",
        "floor_vals = np.floor(a)\n",
        "ceil_vals = np.ceil(a)\n",
        "trunc_vals = np.trunc(a)\n",
        "round_vals = np.round(a)\n",
        "\n",
        "print(floor_vals)\n",
        "print(ceil_vals)\n",
        "print(trunc_vals)\n",
        "print(round_vals)\n"
      ],
      "metadata": {
        "id": "FPYH9hmmuPUN"
      },
      "execution_count": null,
      "outputs": []
    },
    {
      "cell_type": "code",
      "source": [],
      "metadata": {
        "id": "nn4S2fJKt7og"
      },
      "execution_count": null,
      "outputs": []
    },
    {
      "cell_type": "code",
      "source": [
        "# Q3\n",
        "arr = np.array([10, 52, 62, 16, 16, 54, 453])\n",
        "print(np.sort(arr))\n",
        "print(\"Top 5:\", np.sort(arr)[-5:])"
      ],
      "metadata": {
        "id": "mRKDCjUvrUhg"
      },
      "execution_count": null,
      "outputs": []
    },
    {
      "cell_type": "code",
      "source": [
        "# Q4\n",
        "from PIL import Image\n",
        "\n",
        "def img_to_array(path):\n",
        "    img = Image.open(path)\n",
        "    arr = np.array(img)\n",
        "    if len(arr.shape) == 2:\n",
        "        np.savetxt(\"gray_image.txt\", arr, fmt='%d')\n",
        "        print(\"Saved grayscale image array.\")\n",
        "    else:\n",
        "        r, g, b = arr[:,:,0], arr[:,:,1], arr[:,:,2]\n",
        "        np.savetxt(\"rgb_r.txt\", r, fmt='%d')\n",
        "        np.savetxt(\"rgb_g.txt\", g, fmt='%d')\n",
        "        np.savetxt(\"rgb_b.txt\", b, fmt='%d')\n",
        "        print(\"Saved RGB image arrays.\")\n"
      ],
      "metadata": {
        "id": "q8Jp4vm5rZJz"
      },
      "execution_count": null,
      "outputs": []
    },
    {
      "cell_type": "code",
      "source": [
        "# Load grayscale\n",
        "gray_image = np.loadtxt(\"gray_image.txt\")\n",
        "\n",
        "# Load RGB\n",
        "r = np.loadtxt(\"rgb_r.txt\")\n",
        "g = np.loadtxt(\"rgb_g.txt\")\n",
        "b = np.loadtxt(\"rgb_b.txt\")\n",
        "\n",
        "print(gray_image.shape)\n",
        "print(r.shape, g.shape, b.shape)\n"
      ],
      "metadata": {
        "id": "SkGjaWLAuhao"
      },
      "execution_count": null,
      "outputs": []
    }
  ],
  "metadata": {
    "colab": {
      "provenance": []
    },
    "kernelspec": {
      "display_name": "Python 3",
      "name": "python3"
    },
    "language_info": {
      "name": "python"
    }
  },
  "nbformat": 4,
  "nbformat_minor": 0
}