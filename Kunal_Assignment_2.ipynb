{
  "nbformat": 4,
  "nbformat_minor": 0,
  "metadata": {
    "colab": {
      "provenance": []
    },
    "kernelspec": {
      "name": "python3",
      "display_name": "Python 3"
    },
    "language_info": {
      "name": "python"
    }
  },
  "cells": [
    {
      "cell_type": "code",
      "execution_count": 9,
      "metadata": {
        "colab": {
          "base_uri": "https://localhost:8080/"
        },
        "id": "KlWUmgDGLAUx",
        "outputId": "121ffb91-c515-4d79-aa1f-4d2923d3863f"
      },
      "outputs": [
        {
          "output_type": "stream",
          "name": "stdout",
          "text": [
            "  MaritalStatus Gender  YearlyIncome  TotalChildren  NumberChildrenAtHome  \\\n",
            "0             M      M         81916              1                     0   \n",
            "1             M      M         81076              2                     1   \n",
            "2             S      F         86387              0                     0   \n",
            "3             M      M         61481              2                     1   \n",
            "4             S      M         51804              0                     0   \n",
            "\n",
            "         Education      Occupation  HomeOwnerFlag  NumberCarsOwned  \n",
            "0        Bachelors        Clerical              1                3  \n",
            "1  Partial College        Clerical              1                2  \n",
            "2        Bachelors        Clerical              0                3  \n",
            "3  Partial College  Skilled Manual              1                2  \n",
            "4  Partial College  Skilled Manual              1                1  \n"
          ]
        }
      ],
      "source": [
        "import pandas as pd\n",
        "\n",
        "# Load dataset (after downloading)\n",
        "df = pd.read_csv(\"/content/AWCustomers.csv\")\n",
        "\n",
        "# Select relevant attributes\n",
        "features = ['MaritalStatus','Gender','YearlyIncome','TotalChildren',\n",
        "            'NumberChildrenAtHome','Education','Occupation',\n",
        "            'HomeOwnerFlag','NumberCarsOwned']\n",
        "\n",
        "df_selected = df[features]\n",
        "print(df_selected.head())\n"
      ]
    },
    {
      "cell_type": "code",
      "source": [
        "print(df_selected.isnull().sum())\n",
        "df_selected = df_selected.dropna()  # or fill with median/mode if needed\n"
      ],
      "metadata": {
        "colab": {
          "base_uri": "https://localhost:8080/"
        },
        "id": "P7JwBnq7LDPw",
        "outputId": "26de5ffa-9cbd-4282-f84a-ae5d0881852e"
      },
      "execution_count": 10,
      "outputs": [
        {
          "output_type": "stream",
          "name": "stdout",
          "text": [
            "MaritalStatus           0\n",
            "Gender                  0\n",
            "YearlyIncome            0\n",
            "TotalChildren           0\n",
            "NumberChildrenAtHome    0\n",
            "Education               0\n",
            "Occupation              0\n",
            "HomeOwnerFlag           0\n",
            "NumberCarsOwned         0\n",
            "dtype: int64\n"
          ]
        }
      ]
    },
    {
      "cell_type": "code",
      "source": [
        "from sklearn.preprocessing import MinMaxScaler\n",
        "\n",
        "scaler = MinMaxScaler()\n",
        "df_selected[['YearlyIncome','TotalChildren','NumberChildrenAtHome','NumberCarsOwned']] = \\\n",
        "    scaler.fit_transform(df_selected[['YearlyIncome','TotalChildren','NumberChildrenAtHome','NumberCarsOwned']])\n"
      ],
      "metadata": {
        "id": "8h_vP4JALDSH"
      },
      "execution_count": 11,
      "outputs": []
    },
    {
      "cell_type": "code",
      "source": [
        "df_selected['Income_Bin'] = pd.qcut(df['YearlyIncome'], q=4, labels=[\"Low\",\"Medium\",\"High\",\"Very High\"])\n"
      ],
      "metadata": {
        "id": "CTXp1mIWM3Qi"
      },
      "execution_count": 12,
      "outputs": []
    },
    {
      "cell_type": "code",
      "source": [
        "from sklearn.preprocessing import StandardScaler\n",
        "\n",
        "scaler_std = StandardScaler()\n",
        "df_selected[['YearlyIncome']] = scaler_std.fit_transform(df_selected[['YearlyIncome']])"
      ],
      "metadata": {
        "id": "qtXCOWhXM3Sq"
      },
      "execution_count": 13,
      "outputs": []
    },
    {
      "cell_type": "code",
      "source": [
        "df_transformed = pd.get_dummies(df_selected,\n",
        "                                columns=['MaritalStatus','Gender','Education','Occupation'],\n",
        "                                drop_first=True)\n",
        "print(df_transformed.head())\n"
      ],
      "metadata": {
        "colab": {
          "base_uri": "https://localhost:8080/"
        },
        "id": "ZYWATs6GM7lb",
        "outputId": "2a8e4f55-6e3e-4729-86b4-d54e8a32d1e0"
      },
      "execution_count": 15,
      "outputs": [
        {
          "output_type": "stream",
          "name": "stdout",
          "text": [
            "   YearlyIncome  TotalChildren  NumberChildrenAtHome  HomeOwnerFlag  \\\n",
            "0      0.298555       0.333333              0.000000              1   \n",
            "1      0.271180       0.666667              0.333333              1   \n",
            "2      0.444261       0.000000              0.000000              0   \n",
            "3     -0.367401       0.666667              0.333333              1   \n",
            "4     -0.682765       0.000000              0.000000              1   \n",
            "\n",
            "   NumberCarsOwned Income_Bin  MaritalStatus_S  Gender_M  \\\n",
            "0              0.6       High            False      True   \n",
            "1              0.4       High            False      True   \n",
            "2              0.6       High             True     False   \n",
            "3              0.4     Medium            False      True   \n",
            "4              0.2        Low             True      True   \n",
            "\n",
            "   Education_Graduate Degree  Education_High School  \\\n",
            "0                      False                  False   \n",
            "1                      False                  False   \n",
            "2                      False                  False   \n",
            "3                      False                  False   \n",
            "4                      False                  False   \n",
            "\n",
            "   Education_Partial College  Education_Partial High School  \\\n",
            "0                      False                          False   \n",
            "1                       True                          False   \n",
            "2                      False                          False   \n",
            "3                       True                          False   \n",
            "4                       True                          False   \n",
            "\n",
            "   Occupation_Management  Occupation_Manual  Occupation_Professional  \\\n",
            "0                  False              False                    False   \n",
            "1                  False              False                    False   \n",
            "2                  False              False                    False   \n",
            "3                  False              False                    False   \n",
            "4                  False              False                    False   \n",
            "\n",
            "   Occupation_Skilled Manual  \n",
            "0                      False  \n",
            "1                      False  \n",
            "2                      False  \n",
            "3                       True  \n",
            "4                       True  \n"
          ]
        }
      ]
    },
    {
      "cell_type": "code",
      "source": [
        "# One-Hot Encode all categorical columns\n",
        "df_encoded = pd.get_dummies(df_selected, drop_first=True)\n",
        "\n",
        "# Now pick two objects\n",
        "obj1 = df_encoded.iloc[0].values.reshape(1,-1)\n",
        "obj2 = df_encoded.iloc[1].values.reshape(1,-1)\n",
        "\n",
        "# Cosine similarity (now works)\n",
        "from sklearn.metrics.pairwise import cosine_similarity\n",
        "cos_sim = cosine_similarity(obj1, obj2)[0][0]\n",
        "print(\"Cosine Similarity:\", cos_sim)\n",
        "\n"
      ],
      "metadata": {
        "colab": {
          "base_uri": "https://localhost:8080/"
        },
        "id": "WZFithKtM7o8",
        "outputId": "08c840bd-fd5f-4c0c-d10a-8285ee00f30d"
      },
      "execution_count": 17,
      "outputs": [
        {
          "output_type": "stream",
          "name": "stdout",
          "text": [
            "Cosine Similarity: 0.8580785635350737\n"
          ]
        }
      ]
    },
    {
      "cell_type": "code",
      "source": [
        "corr = df['YearlyIncome'].corr(df['HomeOwnerFlag'].astype('category').cat.codes)\n",
        "print(\"Correlation:\", corr)\n"
      ],
      "metadata": {
        "colab": {
          "base_uri": "https://localhost:8080/"
        },
        "id": "uzpDKrwEM7sX",
        "outputId": "18d3acb3-b206-49b5-fff0-dc26adb68db1"
      },
      "execution_count": 19,
      "outputs": [
        {
          "output_type": "stream",
          "name": "stdout",
          "text": [
            "Correlation: 0.35624339008110323\n"
          ]
        }
      ]
    },
    {
      "cell_type": "code",
      "source": [],
      "metadata": {
        "id": "hcZw0q4qM3Wd"
      },
      "execution_count": null,
      "outputs": []
    }
  ]
}